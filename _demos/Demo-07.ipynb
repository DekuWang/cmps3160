{
 "cells": [
  {
   "cell_type": "markdown",
   "metadata": {},
   "source": [
    "# 10-Transforming Data\n",
    "\n",
    "In this notebook we do a few things with the [NBA Salary Dataset](https://github.com/joshrosson/NBASalaryPredictions) to illustrate working with relationships between variables.\n",
    "\n",
    "\n",
    "Why is this a good dataset to study transformations?\n"
   ]
  },
  {
   "cell_type": "code",
   "execution_count": null,
   "metadata": {},
   "outputs": [],
   "source": [
    "# Includes and Standard Magic...\n",
    "### Standard Magic and startup initializers.\n",
    "\n",
    "# Load Numpy\n",
    "import numpy as np\n",
    "# Load MatPlotLib\n",
    "import matplotlib\n",
    "import matplotlib.pyplot as plt\n",
    "# Load Pandas\n",
    "import pandas as pd\n",
    "# Load Stats\n",
    "from scipy import stats\n",
    "import seaborn as sns\n",
    "\n",
    "# This lets us show plots inline and also save PDF plots if we want them\n",
    "%matplotlib inline\n",
    "from matplotlib.backends.backend_pdf import PdfPages\n",
    "matplotlib.style.use('fivethirtyeight')\n",
    "\n",
    "# These two things are for Pandas, it widens the notebook and lets us display data easily.\n",
    "from IPython.core.display import display, HTML\n",
    "display(HTML(\"<style>.container { width:95% !important; }</style>\"))\n",
    "\n",
    "# Show a ludicrus number of rows and columns\n",
    "pd.set_option('display.max_rows', 500)\n",
    "pd.set_option('display.max_columns', 500)\n",
    "pd.set_option('display.width', 1000)\n",
    "\n",
    "# Supress scientific notation\n",
    "pd.set_option('display.float_format', lambda x: '%.2f' % x)"
   ]
  },
  {
   "cell_type": "code",
   "execution_count": null,
   "metadata": {},
   "outputs": [],
   "source": [
    "# Load the data\n",
    "# Data from here: https://github.com/joshrosson/NBASalaryPredictions\n",
    "df_nba = pd.read_csv(\"./data/nba_stats.csv\")\n",
    "df_nba.head()"
   ]
  },
  {
   "cell_type": "markdown",
   "metadata": {},
   "source": [
    "Is the data for NBA Salary skewed?  Why?"
   ]
  },
  {
   "cell_type": "code",
   "execution_count": null,
   "metadata": {},
   "outputs": [],
   "source": [
    "# Is the salary skewed?\n",
    "df_nba['Salary'].plot.hist()"
   ]
  },
  {
   "cell_type": "code",
   "execution_count": null,
   "metadata": {},
   "outputs": [],
   "source": [
    "df_nba['Salary'].describe()"
   ]
  },
  {
   "cell_type": "code",
   "execution_count": null,
   "metadata": {},
   "outputs": [],
   "source": [
    "# Transformation functions..\n",
    "x = np.linspace(0.0001, 200, 500)\n",
    "plt.plot(x**1.5, label=\"$x^{1.5}$\")\n",
    "plt.plot(x**1, label=\"f(x)\")\n",
    "plt.plot(x**0.2, label=\"$x^{0.2}$\")\n",
    "#plt.plot(np.log(x), label=\"log(x)\")\n",
    "plt.legend(loc='best')"
   ]
  },
  {
   "cell_type": "code",
   "execution_count": null,
   "metadata": {},
   "outputs": [],
   "source": [
    "# Apply a few functions...\n",
    "(df_nba['Salary']**2).plot.hist()\n",
    "plt.show()\n",
    "(df_nba['Salary']**0.2).plot.hist()\n",
    "plt.show()\n",
    "(np.log(df_nba['Salary'])).plot.hist()\n",
    "plt.show()"
   ]
  },
  {
   "cell_type": "markdown",
   "metadata": {},
   "source": [
    "## So what's going on?\n",
    "\n",
    "Having very skewed data can make it hard to see what relationships may exist in our data. We'll see this a lot in Project 2. But for now let's investigage the relationship between Salary and how many points players score.\n"
   ]
  },
  {
   "cell_type": "code",
   "execution_count": null,
   "metadata": {},
   "outputs": [],
   "source": [
    "# Uskewing the data can help us to see relationships.\n",
    "# Try 2, 1, 0.2\n",
    "\n",
    "# We'll use subplots to make this easier just for fun...\n",
    "fig, ax = plt.subplots(1, 4, figsize=(15,5))\n",
    "\n",
    "#df_nba.plot.scatter(x=(df_nba['Salary']**2.0), y=df_nba['PTS'], ax=ax[0])\n",
    "\n",
    "ax[0].scatter((df_nba['Salary']**2.0), df_nba['PTS'])\n",
    "ax[0].title.set_text(\"Squared Salary\")\n",
    "ax[1].scatter((df_nba['Salary']**1.0), df_nba['PTS'])\n",
    "ax[1].title.set_text(\"No Transform\")\n",
    "ax[2].scatter((np.log(df_nba['Salary'])), df_nba['PTS'])\n",
    "ax[2].title.set_text(\"Log Transform\")\n",
    "ax[3].scatter((df_nba['Salary']**0.2), df_nba['PTS'])\n",
    "ax[3].title.set_text(\"x^0.2 Salary\")"
   ]
  },
  {
   "cell_type": "code",
   "execution_count": null,
   "metadata": {},
   "outputs": [],
   "source": [
    "# Z-standardize and replot.\n",
    "df_nba['std_salary'] = (df_nba['Salary'] - df_nba['Salary'].mean()) / df_nba['Salary'].std()\n",
    "df_nba['std_pts'] = (df_nba['PTS'] - df_nba['PTS'].mean()) / df_nba['PTS'].std()\n"
   ]
  },
  {
   "cell_type": "code",
   "execution_count": null,
   "metadata": {},
   "outputs": [],
   "source": [
    "# Plot Salary v. Assists..\n",
    "# Can see a bit more distribution and units are interpretable!\n",
    "df_nba.plot.scatter(x='std_salary', y='std_pts')"
   ]
  },
  {
   "cell_type": "code",
   "execution_count": null,
   "metadata": {},
   "outputs": [],
   "source": [
    "# Compute the whole matrix..\n",
    "df_nba.corr()"
   ]
  },
  {
   "cell_type": "code",
   "execution_count": null,
   "metadata": {},
   "outputs": [],
   "source": [
    "# Compute Some Cross Correlations...\n",
    "plt.figure(figsize = (16,5))\n",
    "sns.heatmap(df_nba.corr(), vmin=-1, vmax=1, cmap=sns.diverging_palette(20, 220, as_cmap=True))"
   ]
  },
  {
   "cell_type": "code",
   "execution_count": null,
   "metadata": {},
   "outputs": [],
   "source": [
    "sns.pairplot(df_nba)"
   ]
  },
  {
   "cell_type": "markdown",
   "metadata": {},
   "source": [
    "# Find the closest players!\n"
   ]
  },
  {
   "cell_type": "code",
   "execution_count": null,
   "metadata": {},
   "outputs": [],
   "source": [
    "# Get a smaller set, drop NA's and get dummies...\n",
    "df_comp = df_nba[['Name', 'Pos', 'Salary', 'PTS', 'TRB']].copy()\n",
    "df_comp.dropna(inplace=True)\n",
    "df_comp.reset_index(drop=True, inplace=True)\n",
    "df_comp"
   ]
  },
  {
   "cell_type": "code",
   "execution_count": null,
   "metadata": {},
   "outputs": [],
   "source": [
    "sns.pairplot(df_comp)"
   ]
  },
  {
   "cell_type": "code",
   "execution_count": null,
   "metadata": {},
   "outputs": [],
   "source": [
    "# get dummies\n",
    "df_ml = pd.get_dummies(df_comp[['Pos', 'Salary', 'PTS', 'TRB']])\n",
    "df_ml"
   ]
  },
  {
   "cell_type": "markdown",
   "metadata": {},
   "source": [
    "We're going to start using [SKLearn](https://scikit-learn.org/stable/modules/classes.html#sklearn-metrics-metrics) we'll get more into it as we go!"
   ]
  },
  {
   "cell_type": "code",
   "execution_count": null,
   "metadata": {},
   "outputs": [],
   "source": [
    "# Use SKLEARN to do soe distances.\n",
    "from sklearn.metrics import pairwise_distances\n",
    "D = pairwise_distances(df_ml, metric=\"cosine\")\n",
    "D.shape"
   ]
  },
  {
   "cell_type": "code",
   "execution_count": null,
   "metadata": {},
   "outputs": [],
   "source": [
    "# Find someone intersting...\n",
    "df_comp[(df_comp['Name'] == 'Anthony Davis')]"
   ]
  },
  {
   "cell_type": "code",
   "execution_count": null,
   "metadata": {},
   "outputs": [],
   "source": [
    "D"
   ]
  },
  {
   "cell_type": "code",
   "execution_count": null,
   "metadata": {},
   "outputs": [],
   "source": [
    "# Whose the closest\n",
    "D[8416, :].argmin()"
   ]
  },
  {
   "cell_type": "code",
   "execution_count": null,
   "metadata": {},
   "outputs": [],
   "source": [
    "# Wait... that's me...\n",
    "np.fill_diagonal(D, np.inf)"
   ]
  },
  {
   "cell_type": "code",
   "execution_count": null,
   "metadata": {},
   "outputs": [],
   "source": [
    "D[8416, :].argmin()"
   ]
  },
  {
   "cell_type": "code",
   "execution_count": null,
   "metadata": {},
   "outputs": [],
   "source": [
    "df_comp.loc[5561]"
   ]
  }
 ],
 "metadata": {
  "kernelspec": {
   "display_name": "Python 3",
   "language": "python",
   "name": "python3"
  },
  "language_info": {
   "codemirror_mode": {
    "name": "ipython",
    "version": 3
   },
   "file_extension": ".py",
   "mimetype": "text/x-python",
   "name": "python",
   "nbconvert_exporter": "python",
   "pygments_lexer": "ipython3",
   "version": "3.8.3"
  }
 },
 "nbformat": 4,
 "nbformat_minor": 4
}
