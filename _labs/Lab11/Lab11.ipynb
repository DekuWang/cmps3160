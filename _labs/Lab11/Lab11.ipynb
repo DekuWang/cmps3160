{
 "cells": [
  {
   "cell_type": "markdown",
   "id": "618c6d97",
   "metadata": {},
   "source": [
    "# Lab 10: Scraping\n"
   ]
  },
  {
   "cell_type": "code",
   "execution_count": null,
   "id": "c624ceee",
   "metadata": {},
   "outputs": [],
   "source": [
    "# first, mount your google drive, change to the course folder, pull latest changes, and change to the lab folder.\n",
    "from google.colab import drive\n",
    "drive.mount('/content/drive')\n",
    "%cd /content/drive/My Drive/cmps3160\n",
    "!git pull\n",
    "%cd _labs/Lab10"
   ]
  },
  {
   "cell_type": "code",
   "execution_count": null,
   "id": "65864b05",
   "metadata": {},
   "outputs": [],
   "source": []
  },
  {
   "cell_type": "markdown",
   "id": "923d99ad",
   "metadata": {},
   "source": [
    "# Exercises\n",
    "\n",
    "**Exercise 1.**"
   ]
  },
  {
   "cell_type": "code",
   "execution_count": 2,
   "id": "8020f252",
   "metadata": {},
   "outputs": [],
   "source": [
    "# YOUR CODE HERE"
   ]
  }
 ],
 "metadata": {
  "kernelspec": {
   "display_name": "Python 3",
   "language": "python",
   "name": "python3"
  },
  "language_info": {
   "codemirror_mode": {
    "name": "ipython",
    "version": 3
   },
   "file_extension": ".py",
   "mimetype": "text/x-python",
   "name": "python",
   "nbconvert_exporter": "python",
   "pygments_lexer": "ipython3",
   "version": "3.9.12"
  },
  "toc": {
   "base_numbering": 1,
   "nav_menu": {},
   "number_sections": false,
   "sideBar": true,
   "skip_h1_title": true,
   "title_cell": "Table of Contents",
   "title_sidebar": "Contents",
   "toc_cell": true,
   "toc_position": {},
   "toc_section_display": true,
   "toc_window_display": false
  }
 },
 "nbformat": 4,
 "nbformat_minor": 5
}
